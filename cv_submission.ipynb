{
 "cells": [
  {
   "cell_type": "markdown",
   "id": "intro",
   "metadata": {},
   "source": [
    "# 🍔 Aaltoes CV1 Hackathon Submission (`here for burgers`) 🍔\n",
    "\n",
    "This repository contains the workflow that can be used to replicate the results of the competition."
   ]
  },
  {
   "cell_type": "markdown",
   "id": "setup",
   "metadata": {},
   "source": [
    "## Environment Setup\n",
    "\n",
    "Before running the code, make sure you have cloned the repository and installed the dependencies:\n",
    "\n",
    "```bash\n",
    "git clone --recursive https://github.com/eerik98/aaltoes_cv1_submission\n",
    "cd aaltoes_cv1_submission\n",
    "conda env create -f config/environment.yml\n",
    "./scripts/setup.sh\n",
    "pip install -e .\n",
    "```"
   ]
  },
  {
   "cell_type": "markdown",
   "id": "data-prep",
   "metadata": {},
   "source": [
    "## Data Preparation\n",
    "\n",
    "We created a train-validation split with 90% of the data for training and 10% for validation. \n",
    "\n",
    "Modify the `config/config.yml` file with paths to your dataset. The `dataset` path should contain `train` and `validation` each with the three folders: `images`, `masks` and `originals`."
   ]
  },
  {
   "cell_type": "markdown",
   "id": "model-params",
   "metadata": {},
   "source": [
    "## Model Architecture and Parameter Choices\n",
    "\n",
    "We are using the EITLNet architecture. For the training procedure, we start with a learning rate of `1e-4` for approximately 20 epochs, followed by a few epochs at `1e-5`.\n",
    "\n",
    "You can train the model by running the following cell:"
   ]
  },
  {
   "cell_type": "code",
   "execution_count": null,
   "id": "model-training",
   "metadata": {
    "vscode": {
     "languageId": "shellscript"
    }
   },
   "outputs": [],
   "source": [
    ". scripts/source.sh\n",
    "python3 train.py"
   ]
  },
  {
   "cell_type": "markdown",
   "id": "visualization",
   "metadata": {},
   "source": [
    "## Generating predictions for test set\n",
    "\n",
    "The best weights for the model can be found in the `best_weights/` folder. The config is setup with the best weights.\n",
    "\n",
    "The predictions will be stored in `preds/` folder. To generate them, run the following:"
   ]
  },
  {
   "cell_type": "code",
   "execution_count": null,
   "id": "plot-results",
   "metadata": {
    "vscode": {
     "languageId": "shellscript"
    }
   },
   "outputs": [],
   "source": [
    ". scripts/source.sh\n",
    "python3 inference.py"
   ]
  },
  {
   "cell_type": "markdown",
   "id": "results-summary",
   "metadata": {},
   "source": [
    "## Replication of Submission Results\n",
    "\n",
    "You can run the following to get the submission results:"
   ]
  },
  {
   "cell_type": "code",
   "execution_count": null,
   "id": "load-weights",
   "metadata": {
    "vscode": {
     "languageId": "shellscript"
    }
   },
   "outputs": [],
   "source": [
    "python3 create_submission.py"
   ]
  }
 ],
 "metadata": {
  "kernelspec": {
   "display_name": "Python 3",
   "language": "python",
   "name": "python3"
  },
  "language_info": {
   "name": "python",
   "version": "3.x"
  }
 },
 "nbformat": 4,
 "nbformat_minor": 5
}
